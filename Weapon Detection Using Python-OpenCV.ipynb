{
 "cells": [
  {
   "cell_type": "code",
   "execution_count": 2,
   "id": "25c4f788",
   "metadata": {},
   "outputs": [],
   "source": [
    "import numpy as np\n",
    "import cv2\n",
    "import imutils\n",
    "import datetime"
   ]
  },
  {
   "cell_type": "code",
   "execution_count": 3,
   "id": "8e9b275c",
   "metadata": {},
   "outputs": [],
   "source": [
    "gun_cascase = cv2.CascadeClassifier('cascade.xml')"
   ]
  },
  {
   "cell_type": "code",
   "execution_count": 6,
   "id": "fa2dd0b5",
   "metadata": {},
   "outputs": [],
   "source": [
    "camera = cv2.VideoCapture(0)"
   ]
  },
  {
   "cell_type": "code",
   "execution_count": 7,
   "id": "9e9de688",
   "metadata": {},
   "outputs": [],
   "source": [
    "firstFrame = None\n",
    "gun_exist = None"
   ]
  },
  {
   "cell_type": "code",
   "execution_count": 11,
   "id": "886fcc0e",
   "metadata": {},
   "outputs": [
    {
     "ename": "KeyboardInterrupt",
     "evalue": "",
     "output_type": "error",
     "traceback": [
      "\u001b[1;31m---------------------------------------------------------------------------\u001b[0m",
      "\u001b[1;31mKeyboardInterrupt\u001b[0m                         Traceback (most recent call last)",
      "Cell \u001b[1;32mIn[11], line 5\u001b[0m\n\u001b[0;32m      1\u001b[0m \u001b[38;5;28;01mwhile\u001b[39;00m \u001b[38;5;28;01mTrue\u001b[39;00m:\n\u001b[0;32m      3\u001b[0m     ret, frame \u001b[38;5;241m=\u001b[39m camera\u001b[38;5;241m.\u001b[39mread()\n\u001b[1;32m----> 5\u001b[0m     frame \u001b[38;5;241m=\u001b[39m \u001b[43mimutils\u001b[49m\u001b[38;5;241;43m.\u001b[39;49m\u001b[43mresize\u001b[49m\u001b[43m(\u001b[49m\u001b[43mframe\u001b[49m\u001b[43m,\u001b[49m\u001b[43m \u001b[49m\u001b[43mwidth\u001b[49m\u001b[38;5;241;43m=\u001b[39;49m\u001b[38;5;241;43m500\u001b[39;49m\u001b[43m)\u001b[49m\n\u001b[0;32m      6\u001b[0m     gray \u001b[38;5;241m=\u001b[39m cv2\u001b[38;5;241m.\u001b[39mcvtColor(frame, cv2\u001b[38;5;241m.\u001b[39mCOLOR_BGR2GRAY)\n\u001b[0;32m      8\u001b[0m     gun \u001b[38;5;241m=\u001b[39m gun_cascase\u001b[38;5;241m.\u001b[39mdetectMultiScale(gray, \u001b[38;5;241m1.3\u001b[39m, \u001b[38;5;241m5\u001b[39m, minSize \u001b[38;5;241m=\u001b[39m (\u001b[38;5;241m100\u001b[39m,\u001b[38;5;241m100\u001b[39m))\n",
      "File \u001b[1;32m~\\AppData\\Local\\Programs\\Python\\Python310\\lib\\site-packages\\imutils\\convenience.py:91\u001b[0m, in \u001b[0;36mresize\u001b[1;34m(image, width, height, inter)\u001b[0m\n\u001b[0;32m     88\u001b[0m     dim \u001b[38;5;241m=\u001b[39m (width, \u001b[38;5;28mint\u001b[39m(h \u001b[38;5;241m*\u001b[39m r))\n\u001b[0;32m     90\u001b[0m \u001b[38;5;66;03m# resize the image\u001b[39;00m\n\u001b[1;32m---> 91\u001b[0m resized \u001b[38;5;241m=\u001b[39m \u001b[43mcv2\u001b[49m\u001b[38;5;241;43m.\u001b[39;49m\u001b[43mresize\u001b[49m\u001b[43m(\u001b[49m\u001b[43mimage\u001b[49m\u001b[43m,\u001b[49m\u001b[43m \u001b[49m\u001b[43mdim\u001b[49m\u001b[43m,\u001b[49m\u001b[43m \u001b[49m\u001b[43minterpolation\u001b[49m\u001b[38;5;241;43m=\u001b[39;49m\u001b[43minter\u001b[49m\u001b[43m)\u001b[49m\n\u001b[0;32m     93\u001b[0m \u001b[38;5;66;03m# return the resized image\u001b[39;00m\n\u001b[0;32m     94\u001b[0m \u001b[38;5;28;01mreturn\u001b[39;00m resized\n",
      "\u001b[1;31mKeyboardInterrupt\u001b[0m: "
     ]
    }
   ],
   "source": [
    "while True:\n",
    "    \n",
    "    ret, frame = camera.read()\n",
    "    \n",
    "    frame = imutils.resize(frame, width=500)\n",
    "    gray = cv2.cvtColor(frame, cv2.COLOR_BGR2GRAY)\n",
    "    \n",
    "    gun = gun_cascase.detectMultiScale(gray, 1.3, 5, minSize = (100,100))\n",
    "    \n",
    "    if len(gun) > 0:\n",
    "        gun_exist = True\n",
    "    \n",
    "    for (X, y ,w, h) in gun:\n",
    "        frame = cv2.rectangle(frame, (X, y), (X+w, y+h), (255, 0, 0), 2)\n",
    "        \n",
    "        roi_gray = gray[y:y+h, X:X+w]\n",
    "        roi_color = frame[y:y+h, X:X+w]\n",
    "        \n",
    "    if firstFrame is None:\n",
    "        firstFrame = gray\n",
    "        continue\n",
    "    \n",
    "    cv2.imshow(\"Security feed\", frame)\n",
    "    key = cv2.waitKey(1) & 0xFF\n",
    "    \n",
    "    if key == ord(\"q\"):\n",
    "        break\n",
    "\n",
    "if gun_exist:\n",
    "    print(\"Gun Detected\")\n",
    "else:\n",
    "    print(\"Gun Not Detected\")\n",
    "    \n",
    "camera.release()\n",
    "cv2.destroyAllWindows()\n",
    "\n",
    "\n",
    " "
   ]
  },
  {
   "cell_type": "code",
   "execution_count": null,
   "id": "638f8f97",
   "metadata": {},
   "outputs": [],
   "source": []
  }
 ],
 "metadata": {
  "hide_input": false,
  "kernelspec": {
   "display_name": "Python 3 (ipykernel)",
   "language": "python",
   "name": "python3"
  },
  "language_info": {
   "codemirror_mode": {
    "name": "ipython",
    "version": 3
   },
   "file_extension": ".py",
   "mimetype": "text/x-python",
   "name": "python",
   "nbconvert_exporter": "python",
   "pygments_lexer": "ipython3",
   "version": "3.10.8"
  }
 },
 "nbformat": 4,
 "nbformat_minor": 5
}
